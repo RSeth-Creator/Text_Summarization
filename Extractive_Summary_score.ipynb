{
  "nbformat": 4,
  "nbformat_minor": 0,
  "metadata": {
    "colab": {
      "name": "Extractive_Summary_score.ipynb",
      "provenance": []
    },
    "kernelspec": {
      "name": "python3",
      "display_name": "Python 3"
    },
    "language_info": {
      "name": "python"
    }
  },
  "cells": [
    {
      "cell_type": "code",
      "metadata": {
        "id": "rBBdftdAUXyb"
      },
      "source": [
        "import nltk\n",
        "import string\n",
        "from heapq import nlargest"
      ],
      "execution_count": 58,
      "outputs": []
    },
    {
      "cell_type": "code",
      "metadata": {
        "id": "P5ezHbt1U_Uy"
      },
      "source": [
        "#Importing libraries for web scraping\n",
        "import bs4 as bs\n",
        "import urllib.request\n",
        "import re "
      ],
      "execution_count": 59,
      "outputs": []
    },
    {
      "cell_type": "code",
      "metadata": {
        "id": "2qeHXfv5VJPU"
      },
      "source": [
        "#Find out the sites for fetching the data \n",
        "scraped_data = urllib.request.urlopen('https://en.wikipedia.org/wiki/Natural_language_processing')"
      ],
      "execution_count": 60,
      "outputs": []
    },
    {
      "cell_type": "code",
      "metadata": {
        "id": "1Y0FlxODVMmT"
      },
      "source": [
        "#Scrape the data from mentioned url \n",
        "article = scraped_data.read()\n",
        "parsed_article = bs.BeautifulSoup(article,'lxml')\n",
        "paragraph = parsed_article.find_all('p')\n",
        "\n",
        "# taking all the paragraph in one \n",
        "article_text = \"\"\n",
        "for p in paragraph:\n",
        "  article_text +=p.text"
      ],
      "execution_count": 61,
      "outputs": []
    },
    {
      "cell_type": "code",
      "metadata": {
        "colab": {
          "base_uri": "https://localhost:8080/",
          "height": 130
        },
        "id": "gVdY1pd1dFB1",
        "outputId": "755c0f2f-af9b-4932-bf1f-c3e103382270"
      },
      "source": [
        "article_text"
      ],
      "execution_count": 62,
      "outputs": [
        {
          "output_type": "execute_result",
          "data": {
            "text/plain": [
              "'Natural language processing (NLP) is a subfield of linguistics, computer science, and artificial intelligence concerned with the interactions between computers and human language, in particular how to program computers to process and analyze large amounts of natural language data.  The goal is a computer capable of \"understanding\" the contents of documents, including the contextual nuances of the language within them. The technology can then accurately extract information and insights contained in the documents as well as categorize and organize the documents themselves.\\nChallenges in natural language processing frequently involve speech recognition, natural language understanding, and natural language generation.\\nNatural language processing has its roots in the 1950s. Already in 1950, Alan Turing published an article titled \"Computing Machinery and Intelligence\" which proposed what is now called the Turing test as a criterion of intelligence, though at the time that was not articulated as a problem separate from artificial intelligence. The proposed test includes a task that involves the automated interpretation and generation of natural language.\\nThe premise of symbolic NLP is well-summarized by John Searle\\'s Chinese room experiment: Given a collection of rules (e.g., a Chinese phrasebook, with questions and matching answers), the computer emulates natural language understanding (or other NLP tasks) by applying those rules to the data it confronts.\\nUp to the 1980s, most natural language processing systems were based on complex sets of hand-written rules.  Starting in the late 1980s, however, there was a revolution in natural language processing with the introduction of machine learning algorithms for language processing.  This was due to both the steady increase in computational power (see Moore\\'s law) and the gradual lessening of the dominance of Chomskyan theories of linguistics (e.g. transformational grammar), whose theoretical underpinnings discouraged the sort of corpus linguistics that underlies the machine-learning approach to language processing.[6]\\nIn the 2010s, representation learning and deep neural network-style machine learning methods became widespread in natural language processing. That popularity was due partly to a flurry of results showing that such techniques[7][8] can achieve state-of-the-art results in many natural language tasks, e.g., in language modeling[9] and parsing.[10][11] This is increasingly important in medicine and healthcare, where NLP helps analyze notes and text in electronic health records that would otherwise be inaccessible for study when seeking to improve care.[12]\\nIn the early days, many language-processing systems were designed by symbolic methods, i.e., the hand-coding of a set of rules, coupled with a dictionary lookup:[13][14] such as by writing grammars or devising heuristic rules for stemming.\\nMore recent systems based on machine-learning algorithms have many advantages over hand-produced rules: \\nDespite the popularity of machine learning in NLP research, symbolic methods are still (2020) commonly used:\\nSince the so-called \"statistical revolution\"[15][16] in the late 1980s and mid-1990s, much natural language processing research has relied heavily on machine learning. The machine-learning paradigm calls instead for using statistical inference to automatically learn such rules through the analysis of large corpora (the plural form of corpus, is a set of documents, possibly with human or computer annotations) of typical real-world examples.\\nMany different classes of machine-learning algorithms have been applied to natural-language-processing tasks. These algorithms take as input a large set of \"features\" that are generated from the input data. Increasingly, however, research has focused on statistical models, which make soft, probabilistic decisions based on attaching real-valued weights to each input feature (complex-valued embeddings,[17] and neural networks in general have also been proposed, for e.g. speech[18]). Such models have the advantage that they can express the relative certainty of many different possible answers rather than only one, producing more reliable results when such a model is included as a component of a larger system.\\nSome of the earliest-used machine learning algorithms, such as decision trees, produced systems of hard if-then rules similar to existing hand-written rules.  However, part-of-speech tagging introduced the use of hidden Markov models to natural language processing, and increasingly, research has focused on statistical models, which make soft, probabilistic decisions based on attaching real-valued weights to the features making up the input data. The cache language models upon which many speech recognition systems now rely are examples of such statistical models.  Such models are generally more robust when given unfamiliar input, especially input that contains errors (as is very common for real-world data), and produce more reliable results when integrated into a larger system comprising multiple subtasks.\\nSince the neural turn, statistical methods in NLP research have been largely replaced by neural networks. However, they continue to be relevant for contexts in which statistical interpretability and transparency is required.\\nA major drawback of statistical methods is that they require elaborate feature engineering. Since 2015,[19] the field has thus largely abandoned statistical methods and shifted to neural networks for machine learning. Popular techniques include the use of word embeddings to capture semantic properties of words, and an increase in end-to-end learning of a higher-level task (e.g., question answering) instead of relying on a pipeline of separate intermediate tasks (e.g., part-of-speech tagging and dependency parsing). In some areas, this shift has entailed substantial changes in how NLP systems are designed, such that deep neural network-based approaches may be viewed as a new paradigm distinct from statistical natural language processing. For instance, the term neural machine translation (NMT) emphasizes the fact that deep learning-based approaches to machine translation directly learn sequence-to-sequence transformations, obviating the need for intermediate steps such as word alignment and language modeling that was used in statistical machine translation (SMT). Latest works tend to use non-technical structure of a given task to build proper neural network.[20]\\nThe following is a list of some of the most commonly researched tasks in natural language processing. Some of these tasks have direct real-world applications, while others more commonly serve as subtasks that are used to aid in solving larger tasks.\\nThough natural language processing tasks are closely intertwined, they can be subdivided into categories for convenience. A coarse division is given below.\\nBased on long-standing trends in the field, it is possible to extrapolate future directions of NLP. As of 2020, three trends among the topics of the long-standing series of CoNLL Shared Tasks can be observed:[36]\\nMost higher-level NLP applications involve aspects that emulate intelligent behaviour and apparent comprehension of natural language. More broadly speaking, the technical operationalization of increasingly advanced aspects of cognitive behaviour represents one of the developmental trajectories of NLP (see trends among CoNLL shared tasks above).\\nCognition refers to \"the mental action or process of acquiring knowledge and understanding through thought, experience, and the senses.\"[37] Cognitive science is the interdisciplinary, scientific study of the mind and its processes.[38] Cognitive linguistics is an interdisciplinary branch of linguistics, combining knowledge and research from both psychology and linguistics.[39] Especially during the age of symbolic NLP, the area of computational linguistics maintained strong ties with cognitive studies.\\nAs an example, George Lakoff offers a methodology to build natural language processing (NLP) algorithms through the perspective of cognitive science, along with the findings of cognitive linguistics,[40] with two defining aspects:\\nTies with cognitive linguistics are part of the historical heritage of NLP, but they have been less frequently addressed since the statistical turn during the 1990s. Nevertheless, approaches to develop cognitive models towards technically operationalizable frameworks have been pursued in the context of various frameworks, e.g., of cognitive grammar,[42] functional grammar,[43] construction grammar,[44] computational psycholinguistics and cognitive neuroscience (e.g., ACT-R), however, with limited uptake in mainstream NLP (as measured by presence on major conferences[45] of the ACL). More recently, ideas of cognitive NLP have been revived as an approach to achieve explainability, e.g., under the notion of \"cognitive AI\".[46] Likewise, ideas of cognitive NLP are inherent to neural models multimodal NLP (although rarely made explicit).[47]\\n'"
            ],
            "application/vnd.google.colaboratory.intrinsic+json": {
              "type": "string"
            }
          },
          "metadata": {},
          "execution_count": 62
        }
      ]
    },
    {
      "cell_type": "code",
      "metadata": {
        "id": "bBSa_zSJXUGv"
      },
      "source": [
        "# removes the square brackets and replaces the resulting multiple spaces by a single space\n",
        "article_text = re.sub(r'\\[[0-9]*\\]',' ',article_text)\n",
        "article_text = re.sub(r'\\s+',' ',article_text)"
      ],
      "execution_count": 63,
      "outputs": []
    },
    {
      "cell_type": "code",
      "metadata": {
        "id": "xAU3Oed4Vucy"
      },
      "source": [
        "text = article_text"
      ],
      "execution_count": 64,
      "outputs": []
    },
    {
      "cell_type": "code",
      "source": [
        "text"
      ],
      "metadata": {
        "id": "MGLePgWpLg8R",
        "outputId": "e2263e14-c0ed-490d-8cc2-2fafa34bc6a9",
        "colab": {
          "base_uri": "https://localhost:8080/",
          "height": 130
        }
      },
      "execution_count": 65,
      "outputs": [
        {
          "output_type": "execute_result",
          "data": {
            "text/plain": [
              "'Natural language processing (NLP) is a subfield of linguistics, computer science, and artificial intelligence concerned with the interactions between computers and human language, in particular how to program computers to process and analyze large amounts of natural language data. The goal is a computer capable of \"understanding\" the contents of documents, including the contextual nuances of the language within them. The technology can then accurately extract information and insights contained in the documents as well as categorize and organize the documents themselves. Challenges in natural language processing frequently involve speech recognition, natural language understanding, and natural language generation. Natural language processing has its roots in the 1950s. Already in 1950, Alan Turing published an article titled \"Computing Machinery and Intelligence\" which proposed what is now called the Turing test as a criterion of intelligence, though at the time that was not articulated as a problem separate from artificial intelligence. The proposed test includes a task that involves the automated interpretation and generation of natural language. The premise of symbolic NLP is well-summarized by John Searle\\'s Chinese room experiment: Given a collection of rules (e.g., a Chinese phrasebook, with questions and matching answers), the computer emulates natural language understanding (or other NLP tasks) by applying those rules to the data it confronts. Up to the 1980s, most natural language processing systems were based on complex sets of hand-written rules. Starting in the late 1980s, however, there was a revolution in natural language processing with the introduction of machine learning algorithms for language processing. This was due to both the steady increase in computational power (see Moore\\'s law) and the gradual lessening of the dominance of Chomskyan theories of linguistics (e.g. transformational grammar), whose theoretical underpinnings discouraged the sort of corpus linguistics that underlies the machine-learning approach to language processing. In the 2010s, representation learning and deep neural network-style machine learning methods became widespread in natural language processing. That popularity was due partly to a flurry of results showing that such techniques can achieve state-of-the-art results in many natural language tasks, e.g., in language modeling and parsing. This is increasingly important in medicine and healthcare, where NLP helps analyze notes and text in electronic health records that would otherwise be inaccessible for study when seeking to improve care. In the early days, many language-processing systems were designed by symbolic methods, i.e., the hand-coding of a set of rules, coupled with a dictionary lookup: such as by writing grammars or devising heuristic rules for stemming. More recent systems based on machine-learning algorithms have many advantages over hand-produced rules: Despite the popularity of machine learning in NLP research, symbolic methods are still (2020) commonly used: Since the so-called \"statistical revolution\" in the late 1980s and mid-1990s, much natural language processing research has relied heavily on machine learning. The machine-learning paradigm calls instead for using statistical inference to automatically learn such rules through the analysis of large corpora (the plural form of corpus, is a set of documents, possibly with human or computer annotations) of typical real-world examples. Many different classes of machine-learning algorithms have been applied to natural-language-processing tasks. These algorithms take as input a large set of \"features\" that are generated from the input data. Increasingly, however, research has focused on statistical models, which make soft, probabilistic decisions based on attaching real-valued weights to each input feature (complex-valued embeddings, and neural networks in general have also been proposed, for e.g. speech ). Such models have the advantage that they can express the relative certainty of many different possible answers rather than only one, producing more reliable results when such a model is included as a component of a larger system. Some of the earliest-used machine learning algorithms, such as decision trees, produced systems of hard if-then rules similar to existing hand-written rules. However, part-of-speech tagging introduced the use of hidden Markov models to natural language processing, and increasingly, research has focused on statistical models, which make soft, probabilistic decisions based on attaching real-valued weights to the features making up the input data. The cache language models upon which many speech recognition systems now rely are examples of such statistical models. Such models are generally more robust when given unfamiliar input, especially input that contains errors (as is very common for real-world data), and produce more reliable results when integrated into a larger system comprising multiple subtasks. Since the neural turn, statistical methods in NLP research have been largely replaced by neural networks. However, they continue to be relevant for contexts in which statistical interpretability and transparency is required. A major drawback of statistical methods is that they require elaborate feature engineering. Since 2015, the field has thus largely abandoned statistical methods and shifted to neural networks for machine learning. Popular techniques include the use of word embeddings to capture semantic properties of words, and an increase in end-to-end learning of a higher-level task (e.g., question answering) instead of relying on a pipeline of separate intermediate tasks (e.g., part-of-speech tagging and dependency parsing). In some areas, this shift has entailed substantial changes in how NLP systems are designed, such that deep neural network-based approaches may be viewed as a new paradigm distinct from statistical natural language processing. For instance, the term neural machine translation (NMT) emphasizes the fact that deep learning-based approaches to machine translation directly learn sequence-to-sequence transformations, obviating the need for intermediate steps such as word alignment and language modeling that was used in statistical machine translation (SMT). Latest works tend to use non-technical structure of a given task to build proper neural network. The following is a list of some of the most commonly researched tasks in natural language processing. Some of these tasks have direct real-world applications, while others more commonly serve as subtasks that are used to aid in solving larger tasks. Though natural language processing tasks are closely intertwined, they can be subdivided into categories for convenience. A coarse division is given below. Based on long-standing trends in the field, it is possible to extrapolate future directions of NLP. As of 2020, three trends among the topics of the long-standing series of CoNLL Shared Tasks can be observed: Most higher-level NLP applications involve aspects that emulate intelligent behaviour and apparent comprehension of natural language. More broadly speaking, the technical operationalization of increasingly advanced aspects of cognitive behaviour represents one of the developmental trajectories of NLP (see trends among CoNLL shared tasks above). Cognition refers to \"the mental action or process of acquiring knowledge and understanding through thought, experience, and the senses.\" Cognitive science is the interdisciplinary, scientific study of the mind and its processes. Cognitive linguistics is an interdisciplinary branch of linguistics, combining knowledge and research from both psychology and linguistics. Especially during the age of symbolic NLP, the area of computational linguistics maintained strong ties with cognitive studies. As an example, George Lakoff offers a methodology to build natural language processing (NLP) algorithms through the perspective of cognitive science, along with the findings of cognitive linguistics, with two defining aspects: Ties with cognitive linguistics are part of the historical heritage of NLP, but they have been less frequently addressed since the statistical turn during the 1990s. Nevertheless, approaches to develop cognitive models towards technically operationalizable frameworks have been pursued in the context of various frameworks, e.g., of cognitive grammar, functional grammar, construction grammar, computational psycholinguistics and cognitive neuroscience (e.g., ACT-R), however, with limited uptake in mainstream NLP (as measured by presence on major conferences of the ACL). More recently, ideas of cognitive NLP have been revived as an approach to achieve explainability, e.g., under the notion of \"cognitive AI\". Likewise, ideas of cognitive NLP are inherent to neural models multimodal NLP (although rarely made explicit). '"
            ],
            "application/vnd.google.colaboratory.intrinsic+json": {
              "type": "string"
            }
          },
          "metadata": {},
          "execution_count": 65
        }
      ]
    },
    {
      "cell_type": "code",
      "metadata": {
        "id": "RRDFhV3FVSG1"
      },
      "source": [
        "# Declare a variable for text\n",
        "#text = \"\"\n",
        "# If the length of the text is greater than 20, take a 10th of the sentences\n",
        "if text.count(\". \") > 10:\n",
        "  length = int(round(text.count(\". \")/5, 0))\n",
        "# Otherwise return five sentences\n",
        "else:\n",
        "  length = 1"
      ],
      "execution_count": 66,
      "outputs": []
    },
    {
      "cell_type": "code",
      "metadata": {
        "colab": {
          "base_uri": "https://localhost:8080/"
        },
        "id": "qkDWxZJIWEea",
        "outputId": "c033f1dd-6994-4256-d3fa-3c55034c7934"
      },
      "source": [
        "import nltk\n",
        "nltk.download('stopwords')"
      ],
      "execution_count": 67,
      "outputs": [
        {
          "output_type": "stream",
          "name": "stdout",
          "text": [
            "[nltk_data] Downloading package stopwords to /root/nltk_data...\n",
            "[nltk_data]   Package stopwords is already up-to-date!\n"
          ]
        },
        {
          "output_type": "execute_result",
          "data": {
            "text/plain": [
              "True"
            ]
          },
          "metadata": {},
          "execution_count": 67
        }
      ]
    },
    {
      "cell_type": "code",
      "metadata": {
        "id": "pTnTjZe3V6fD"
      },
      "source": [
        "# Remove punctuation\n",
        "nopunc = [char for char in text if char not in string.punctuation]\n",
        "nopunc = ''.join(nopunc)\n",
        "# Remove stopwords\n",
        "processed_text =[word for word in nopunc.split() if word.lower() not in nltk.corpus.stopwords.words('english')]"
      ],
      "execution_count": 68,
      "outputs": []
    },
    {
      "cell_type": "code",
      "metadata": {
        "id": "t-UrQzc2WITx"
      },
      "source": [
        "# Create a dictionary to store word frequency\n",
        "word_freq = {}\n",
        "# Enter each word and its number of occurrences\n",
        "for word in processed_text:\n",
        "  if word not in word_freq:\n",
        "    word_freq[word] = 1\n",
        "  else:\n",
        "    word_freq[word] = word_freq[word] + 1"
      ],
      "execution_count": 69,
      "outputs": []
    },
    {
      "cell_type": "code",
      "metadata": {
        "id": "kSt0XXXFWYFT"
      },
      "source": [
        "# Divide all frequencies by max frequency to give store of (0, 1]\n",
        "max_freq = max(word_freq.values())\n",
        "for word in word_freq.keys():\n",
        "  word_freq[word] = (word_freq[word]/max_freq)"
      ],
      "execution_count": 70,
      "outputs": []
    },
    {
      "cell_type": "code",
      "metadata": {
        "colab": {
          "base_uri": "https://localhost:8080/"
        },
        "id": "Vzibv3e_WsoB",
        "outputId": "71ea87d0-263e-4639-f16d-2fb7d940c523"
      },
      "source": [
        "import nltk\n",
        "nltk.download('punkt')"
      ],
      "execution_count": 71,
      "outputs": [
        {
          "output_type": "stream",
          "name": "stdout",
          "text": [
            "[nltk_data] Downloading package punkt to /root/nltk_data...\n",
            "[nltk_data]   Package punkt is already up-to-date!\n"
          ]
        },
        {
          "output_type": "execute_result",
          "data": {
            "text/plain": [
              "True"
            ]
          },
          "metadata": {},
          "execution_count": 71
        }
      ]
    },
    {
      "cell_type": "code",
      "metadata": {
        "id": "1RN2xbZRWbOX"
      },
      "source": [
        "# Create a list of the sentences in the text\n",
        "sent_list = nltk.sent_tokenize(text)\n",
        "# Create an empty dictionary to store sentence scores\n",
        "sent_score = {}\n",
        "for sent in sent_list:\n",
        "  for word in nltk.word_tokenize(sent.lower()):\n",
        "    if word in word_freq.keys():\n",
        "      if sent not in sent_score.keys():\n",
        "        sent_score[sent] = word_freq[word]\n",
        "      else:\n",
        "        sent_score[sent] = sent_score[sent] + word_freq[word]"
      ],
      "execution_count": 72,
      "outputs": []
    },
    {
      "cell_type": "code",
      "metadata": {
        "colab": {
          "base_uri": "https://localhost:8080/"
        },
        "id": "qorvmFQGWnvJ",
        "outputId": "9308544c-e249-4b6d-ee55-0f4db9be2be0"
      },
      "source": [
        "summary_sents = nlargest(length, sent_score, key = sent_score.get)\n",
        "summary = ' '.join(summary_sents)\n",
        "print(summary)"
      ],
      "execution_count": 73,
      "outputs": [
        {
          "output_type": "stream",
          "name": "stdout",
          "text": [
            "More recent systems based on machine-learning algorithms have many advantages over hand-produced rules: Despite the popularity of machine learning in NLP research, symbolic methods are still (2020) commonly used: Since the so-called \"statistical revolution\" in the late 1980s and mid-1990s, much natural language processing research has relied heavily on machine learning. Natural language processing (NLP) is a subfield of linguistics, computer science, and artificial intelligence concerned with the interactions between computers and human language, in particular how to program computers to process and analyze large amounts of natural language data. Challenges in natural language processing frequently involve speech recognition, natural language understanding, and natural language generation. As an example, George Lakoff offers a methodology to build natural language processing (NLP) algorithms through the perspective of cognitive science, along with the findings of cognitive linguistics, with two defining aspects: Ties with cognitive linguistics are part of the historical heritage of NLP, but they have been less frequently addressed since the statistical turn during the 1990s. However, part-of-speech tagging introduced the use of hidden Markov models to natural language processing, and increasingly, research has focused on statistical models, which make soft, probabilistic decisions based on attaching real-valued weights to the features making up the input data. Starting in the late 1980s, however, there was a revolution in natural language processing with the introduction of machine learning algorithms for language processing. For instance, the term neural machine translation (NMT) emphasizes the fact that deep learning-based approaches to machine translation directly learn sequence-to-sequence transformations, obviating the need for intermediate steps such as word alignment and language modeling that was used in statistical machine translation (SMT). That popularity was due partly to a flurry of results showing that such techniques can achieve state-of-the-art results in many natural language tasks, e.g., in language modeling and parsing. In the 2010s, representation learning and deep neural network-style machine learning methods became widespread in natural language processing. In some areas, this shift has entailed substantial changes in how NLP systems are designed, such that deep neural network-based approaches may be viewed as a new paradigm distinct from statistical natural language processing.\n"
          ]
        }
      ]
    },
    {
      "cell_type": "code",
      "source": [
        "!pip install sumeval\n",
        "!python -m spacy download en"
      ],
      "metadata": {
        "colab": {
          "base_uri": "https://localhost:8080/"
        },
        "id": "9l-F61b1CgqN",
        "outputId": "007827bd-f93c-4d25-f0d4-6af5102a25cb"
      },
      "execution_count": 74,
      "outputs": [
        {
          "output_type": "stream",
          "name": "stdout",
          "text": [
            "Requirement already satisfied: sumeval in /usr/local/lib/python3.7/dist-packages (0.2.2)\n",
            "Requirement already satisfied: sacrebleu>=1.3.2 in /usr/local/lib/python3.7/dist-packages (from sumeval) (2.0.0)\n",
            "Requirement already satisfied: plac>=0.9.6 in /usr/local/lib/python3.7/dist-packages (from sumeval) (1.1.3)\n",
            "Requirement already satisfied: colorama in /usr/local/lib/python3.7/dist-packages (from sacrebleu>=1.3.2->sumeval) (0.4.4)\n",
            "Requirement already satisfied: portalocker in /usr/local/lib/python3.7/dist-packages (from sacrebleu>=1.3.2->sumeval) (2.4.0)\n",
            "Requirement already satisfied: numpy>=1.17 in /usr/local/lib/python3.7/dist-packages (from sacrebleu>=1.3.2->sumeval) (1.21.5)\n",
            "Requirement already satisfied: regex in /usr/local/lib/python3.7/dist-packages (from sacrebleu>=1.3.2->sumeval) (2019.12.20)\n",
            "Requirement already satisfied: tabulate>=0.8.9 in /usr/local/lib/python3.7/dist-packages (from sacrebleu>=1.3.2->sumeval) (0.8.9)\n",
            "Collecting en_core_web_sm==2.2.5\n",
            "  Downloading https://github.com/explosion/spacy-models/releases/download/en_core_web_sm-2.2.5/en_core_web_sm-2.2.5.tar.gz (12.0 MB)\n",
            "\u001b[K     |████████████████████████████████| 12.0 MB 5.3 MB/s \n",
            "\u001b[?25hRequirement already satisfied: spacy>=2.2.2 in /usr/local/lib/python3.7/dist-packages (from en_core_web_sm==2.2.5) (2.2.4)\n",
            "Requirement already satisfied: murmurhash<1.1.0,>=0.28.0 in /usr/local/lib/python3.7/dist-packages (from spacy>=2.2.2->en_core_web_sm==2.2.5) (1.0.6)\n",
            "Requirement already satisfied: blis<0.5.0,>=0.4.0 in /usr/local/lib/python3.7/dist-packages (from spacy>=2.2.2->en_core_web_sm==2.2.5) (0.4.1)\n",
            "Requirement already satisfied: srsly<1.1.0,>=1.0.2 in /usr/local/lib/python3.7/dist-packages (from spacy>=2.2.2->en_core_web_sm==2.2.5) (1.0.5)\n",
            "Requirement already satisfied: catalogue<1.1.0,>=0.0.7 in /usr/local/lib/python3.7/dist-packages (from spacy>=2.2.2->en_core_web_sm==2.2.5) (1.0.0)\n",
            "Requirement already satisfied: tqdm<5.0.0,>=4.38.0 in /usr/local/lib/python3.7/dist-packages (from spacy>=2.2.2->en_core_web_sm==2.2.5) (4.63.0)\n",
            "Requirement already satisfied: setuptools in /usr/local/lib/python3.7/dist-packages (from spacy>=2.2.2->en_core_web_sm==2.2.5) (57.4.0)\n",
            "Requirement already satisfied: requests<3.0.0,>=2.13.0 in /usr/local/lib/python3.7/dist-packages (from spacy>=2.2.2->en_core_web_sm==2.2.5) (2.23.0)\n",
            "Requirement already satisfied: cymem<2.1.0,>=2.0.2 in /usr/local/lib/python3.7/dist-packages (from spacy>=2.2.2->en_core_web_sm==2.2.5) (2.0.6)\n",
            "Requirement already satisfied: numpy>=1.15.0 in /usr/local/lib/python3.7/dist-packages (from spacy>=2.2.2->en_core_web_sm==2.2.5) (1.21.5)\n",
            "Requirement already satisfied: plac<1.2.0,>=0.9.6 in /usr/local/lib/python3.7/dist-packages (from spacy>=2.2.2->en_core_web_sm==2.2.5) (1.1.3)\n",
            "Requirement already satisfied: thinc==7.4.0 in /usr/local/lib/python3.7/dist-packages (from spacy>=2.2.2->en_core_web_sm==2.2.5) (7.4.0)\n",
            "Requirement already satisfied: preshed<3.1.0,>=3.0.2 in /usr/local/lib/python3.7/dist-packages (from spacy>=2.2.2->en_core_web_sm==2.2.5) (3.0.6)\n",
            "Requirement already satisfied: wasabi<1.1.0,>=0.4.0 in /usr/local/lib/python3.7/dist-packages (from spacy>=2.2.2->en_core_web_sm==2.2.5) (0.9.0)\n",
            "Requirement already satisfied: importlib-metadata>=0.20 in /usr/local/lib/python3.7/dist-packages (from catalogue<1.1.0,>=0.0.7->spacy>=2.2.2->en_core_web_sm==2.2.5) (4.11.3)\n",
            "Requirement already satisfied: typing-extensions>=3.6.4 in /usr/local/lib/python3.7/dist-packages (from importlib-metadata>=0.20->catalogue<1.1.0,>=0.0.7->spacy>=2.2.2->en_core_web_sm==2.2.5) (3.10.0.2)\n",
            "Requirement already satisfied: zipp>=0.5 in /usr/local/lib/python3.7/dist-packages (from importlib-metadata>=0.20->catalogue<1.1.0,>=0.0.7->spacy>=2.2.2->en_core_web_sm==2.2.5) (3.7.0)\n",
            "Requirement already satisfied: urllib3!=1.25.0,!=1.25.1,<1.26,>=1.21.1 in /usr/local/lib/python3.7/dist-packages (from requests<3.0.0,>=2.13.0->spacy>=2.2.2->en_core_web_sm==2.2.5) (1.24.3)\n",
            "Requirement already satisfied: chardet<4,>=3.0.2 in /usr/local/lib/python3.7/dist-packages (from requests<3.0.0,>=2.13.0->spacy>=2.2.2->en_core_web_sm==2.2.5) (3.0.4)\n",
            "Requirement already satisfied: certifi>=2017.4.17 in /usr/local/lib/python3.7/dist-packages (from requests<3.0.0,>=2.13.0->spacy>=2.2.2->en_core_web_sm==2.2.5) (2021.10.8)\n",
            "Requirement already satisfied: idna<3,>=2.5 in /usr/local/lib/python3.7/dist-packages (from requests<3.0.0,>=2.13.0->spacy>=2.2.2->en_core_web_sm==2.2.5) (2.10)\n",
            "\u001b[38;5;2m✔ Download and installation successful\u001b[0m\n",
            "You can now load the model via spacy.load('en_core_web_sm')\n",
            "\u001b[38;5;2m✔ Linking successful\u001b[0m\n",
            "/usr/local/lib/python3.7/dist-packages/en_core_web_sm -->\n",
            "/usr/local/lib/python3.7/dist-packages/spacy/data/en\n",
            "You can now load the model via spacy.load('en')\n"
          ]
        }
      ]
    },
    {
      "cell_type": "code",
      "source": [
        "\n",
        "from sumeval.metrics.rouge import RougeCalculator\n",
        "\n",
        "\n"
      ],
      "metadata": {
        "id": "eTpemcz1CtoB"
      },
      "execution_count": 75,
      "outputs": []
    },
    {
      "cell_type": "code",
      "source": [
        "\n",
        "rouge = RougeCalculator(stopwords=True, lang=\"en\")\n",
        "\n",
        "rouge_1 = rouge.rouge_n(\n",
        "            summary=summary,\n",
        "            references=text,\n",
        "            n=1)\n",
        "\n",
        "rouge_2 = rouge.rouge_n(\n",
        "            summary=summary,\n",
        "            references=[text],\n",
        "            n=2)\n",
        "\n",
        "rouge_l = rouge.rouge_l(\n",
        "            summary=summary,\n",
        "            references=[text])\n",
        "\n",
        "# You need spaCy to calculate ROUGE-BE\n",
        "\n",
        "rouge_be = rouge.rouge_be(\n",
        "            summary=summary,\n",
        "            references=[text])\n",
        "\n",
        "print(\"ROUGE-1: {}, ROUGE-2: {}, ROUGE-L: {}, ROUGE-BE: {}\".format(\n",
        "    rouge_1, rouge_2, rouge_l, rouge_be\n",
        ").replace(\", \", \"\\n\"))\n"
      ],
      "metadata": {
        "colab": {
          "base_uri": "https://localhost:8080/"
        },
        "id": "Wz-lpNwyDZbI",
        "outputId": "3740d7b2-2ca8-4d01-94b1-d0a50cc2a7bf"
      },
      "execution_count": 76,
      "outputs": [
        {
          "output_type": "stream",
          "name": "stdout",
          "text": [
            "b.More=(amod)=>systems\n",
            "b.recent=(amod)=>systems\n",
            "b.based=(acl)=>systems\n",
            "a.machine=(npadvmod)=>learning\n",
            "<BasicElement: machine-[npadvmod]->learn>\n",
            "b.learning=(amod)=>algorithms\n",
            "b.many=(amod)=>advantages\n",
            "a.hand=(npadvmod)=>produced\n",
            "<BasicElement: hand-[npadvmod]->produce>\n",
            "b.produced=(amod)=>rules\n",
            "a.machine=(compound)=>learning\n",
            "<BasicElement: machine-[compound]->learn>\n",
            "b.symbolic=(amod)=>methods\n",
            "b.called=(amod)=>revolution\n",
            "b.statistical=(amod)=>revolution\n",
            "b.late=(amod)=>1980s\n",
            "b.much=(amod)=>research\n",
            "b.natural=(amod)=>language\n",
            "a.research=(nsubj)=>relied\n",
            "<BasicElement: research-[nsubj]->rely>\n",
            "a.machine=(nsubj)=>learning\n",
            "<BasicElement: machine-[nsubj]->learn>\n",
            "b.Natural=(amod)=>language\n",
            "a.processing=(dobj)=>learning\n",
            "<BasicElement: processing-[dobj]->learn>\n",
            "b.artificial=(amod)=>intelligence\n",
            "b.concerned=(acl)=>linguistics\n",
            "b.human=(amod)=>language\n",
            "a.computers=(dobj)=>program\n",
            "<BasicElement: computers-[dobj]->program>\n",
            "b.large=(amod)=>amounts\n",
            "a.amounts=(dobj)=>analyze\n",
            "<BasicElement: amounts-[dobj]->analyze>\n",
            "b.natural=(amod)=>language\n",
            "a.Challenges=(dobj)=>analyze\n",
            "<BasicElement: Challenges-[dobj]->analyze>\n",
            "b.natural=(amod)=>language\n",
            "a.recognition=(dobj)=>involve\n",
            "<BasicElement: recognition-[dobj]->involve>\n",
            "b.natural=(amod)=>language\n",
            "b.natural=(amod)=>language\n",
            "a.methodology=(dobj)=>offers\n",
            "<BasicElement: methodology-[dobj]->offer>\n",
            "b.natural=(amod)=>language\n",
            "a.processing=(dobj)=>build\n",
            "<BasicElement: processing-[dobj]->build>\n",
            "b.cognitive=(amod)=>science\n",
            "b.cognitive=(amod)=>linguistics\n",
            "b.defining=(amod)=>aspects\n",
            "b.cognitive=(amod)=>linguistics\n",
            "b.historical=(amod)=>heritage\n",
            "b.statistical=(amod)=>turn\n",
            "a.tagging=(nsubj)=>introduced\n",
            "<BasicElement: tagging-[nsubj]->introduce>\n",
            "a.use=(dobj)=>introduced\n",
            "<BasicElement: use-[dobj]->introduce>\n",
            "b.hidden=(amod)=>models\n",
            "b.natural=(amod)=>language\n",
            "a.research=(nsubj)=>focused\n",
            "<BasicElement: research-[nsubj]->focus>\n",
            "b.statistical=(amod)=>models\n",
            "b.make=(relcl)=>models\n",
            "b.soft=(amod)=>decisions\n",
            "b.probabilistic=(amod)=>decisions\n",
            "a.decisions=(dobj)=>make\n",
            "<BasicElement: decisions-[dobj]->make>\n",
            "b.based=(acl)=>models\n",
            "b.valued=(amod)=>weights\n",
            "a.weights=(dobj)=>attaching\n",
            "<BasicElement: weights-[dobj]->attach>\n",
            "b.making=(acl)=>features\n",
            "a.data=(dobj)=>making\n",
            "<BasicElement: data-[dobj]->make>\n",
            "b.late=(amod)=>1980s\n",
            "b.natural=(amod)=>language\n",
            "a.machine=(npadvmod)=>learning\n",
            "<BasicElement: machine-[npadvmod]->learn>\n",
            "a.algorithms=(dobj)=>learning\n",
            "<BasicElement: algorithms-[dobj]->learn>\n",
            "b.neural=(amod)=>translation\n",
            "a.fact=(dobj)=>emphasizes\n",
            "<BasicElement: fact-[dobj]->emphasize>\n",
            "a.learning=(npadvmod)=>based\n",
            "<BasicElement: learning-[npadvmod]->base>\n",
            "b.based=(amod)=>approaches\n",
            "a.approaches=(nsubj)=>learn\n",
            "<BasicElement: approaches-[nsubj]->learn>\n",
            "b.learn=(acl)=>fact\n",
            "a.transformations=(dobj)=>learn\n",
            "<BasicElement: transformations-[dobj]->learn>\n",
            "b.obviating=(acl)=>transformations\n",
            "a.need=(dobj)=>obviating\n",
            "<BasicElement: need-[dobj]->obviate>\n",
            "b.intermediate=(amod)=>steps\n",
            "b.used=(relcl)=>modeling\n",
            "b.statistical=(amod)=>translation\n",
            "b.showing=(acl)=>results\n",
            "b.such=(amod)=>techniques\n",
            "a.techniques=(nsubj)=>achieve\n",
            "<BasicElement: techniques-[nsubj]->achieve>\n",
            "a.results=(dobj)=>achieve\n",
            "<BasicElement: results-[dobj]->achieve>\n",
            "b.many=(amod)=>tasks\n",
            "b.natural=(amod)=>language\n",
            "a.learning=(nsubj)=>became\n",
            "<BasicElement: learning-[nsubj]->become>\n",
            "b.deep=(amod)=>methods\n",
            "b.neural=(amod)=>methods\n",
            "b.natural=(amod)=>language\n",
            "a.shift=(nsubj)=>entailed\n",
            "<BasicElement: shift-[nsubj]->entail>\n",
            "b.substantial=(amod)=>changes\n",
            "a.changes=(dobj)=>entailed\n",
            "<BasicElement: changes-[dobj]->entail>\n",
            "a.systems=(nsubjpass)=>designed\n",
            "<BasicElement: systems-[nsubjpass]->design>\n",
            "b.deep=(amod)=>approaches\n",
            "b.neural=(amod)=>approaches\n",
            "a.network=(npadvmod)=>based\n",
            "<BasicElement: network-[npadvmod]->base>\n",
            "b.based=(amod)=>approaches\n",
            "a.approaches=(nsubjpass)=>viewed\n",
            "<BasicElement: approaches-[nsubjpass]->view>\n",
            "a.paradigm=(compound)=>distinct\n",
            "<BasicElement: paradigm-[compound]->distinct>\n",
            "b.statistical=(amod)=>processing\n",
            "b.natural=(amod)=>language\n",
            "b.Natural=(amod)=>language\n",
            "b.artificial=(amod)=>intelligence\n",
            "b.concerned=(acl)=>linguistics\n",
            "b.human=(amod)=>language\n",
            "a.computers=(dobj)=>program\n",
            "<BasicElement: computers-[dobj]->program>\n",
            "b.large=(amod)=>amounts\n",
            "a.amounts=(dobj)=>analyze\n",
            "<BasicElement: amounts-[dobj]->analyze>\n",
            "b.natural=(amod)=>language\n",
            "b.capable=(amod)=>computer\n",
            "b.including=(prep)=>documents\n",
            "b.contextual=(amod)=>nuances\n",
            "a.nuances=(pobj)=>including\n",
            "<BasicElement: nuances-[pobj]->include>\n",
            "a.technology=(nsubj)=>extract\n",
            "<BasicElement: technology-[nsubj]->extract>\n",
            "a.information=(dobj)=>extract\n",
            "<BasicElement: information-[dobj]->extract>\n",
            "b.contained=(acl)=>information\n",
            "a.documents=(dobj)=>organize\n",
            "<BasicElement: documents-[dobj]->organize>\n",
            "b.natural=(amod)=>language\n",
            "a.recognition=(dobj)=>involve\n",
            "<BasicElement: recognition-[dobj]->involve>\n",
            "b.natural=(amod)=>language\n",
            "b.natural=(amod)=>language\n",
            "b.Natural=(amod)=>language\n",
            "a.article=(dobj)=>published\n",
            "<BasicElement: article-[dobj]->publish>\n",
            "b.titled=(acl)=>article\n",
            "b.proposed=(relcl)=>article\n",
            "a.test=(oprd)=>called\n",
            "<BasicElement: test-[oprd]->call>\n",
            "b.articulated=(relcl)=>time\n",
            "b.separate=(amod)=>problem\n",
            "b.artificial=(amod)=>intelligence\n",
            "b.proposed=(amod)=>test\n",
            "a.test=(nsubj)=>includes\n",
            "<BasicElement: test-[nsubj]->include>\n",
            "a.task=(dobj)=>includes\n",
            "<BasicElement: task-[dobj]->include>\n",
            "b.involves=(relcl)=>task\n",
            "b.automated=(amod)=>interpretation\n",
            "a.interpretation=(dobj)=>involves\n",
            "<BasicElement: interpretation-[dobj]->involve>\n",
            "b.natural=(amod)=>language\n",
            "b.Chinese=(amod)=>room\n",
            "a.collection=(pobj)=>Given\n",
            "<BasicElement: collection-[pobj]->give>\n",
            "b.Chinese=(amod)=>phrasebook\n",
            "a.computer=(nsubj)=>emulates\n",
            "<BasicElement: computer-[nsubj]->emulate>\n",
            "b.natural=(amod)=>language\n",
            "a.language=(dobj)=>emulates\n",
            "<BasicElement: language-[dobj]->emulate>\n",
            "a.understanding=(advcl)=>emulates\n",
            "<BasicElement: understanding-[advcl]->emulate>\n",
            "b.other=(amod)=>tasks\n",
            "a.rules=(dobj)=>applying\n",
            "<BasicElement: rules-[dobj]->apply>\n",
            "b.confronts=(relcl)=>data\n",
            "b.most=(amod)=>systems\n",
            "b.natural=(amod)=>language\n",
            "a.systems=(nsubjpass)=>based\n",
            "<BasicElement: systems-[nsubjpass]->base>\n",
            "b.complex=(amod)=>sets\n",
            "a.hand=(npadvmod)=>written\n",
            "<BasicElement: hand-[npadvmod]->write>\n",
            "b.written=(amod)=>rules\n",
            "b.Starting=(acl)=>rules\n",
            "b.late=(amod)=>1980s\n",
            "b.natural=(amod)=>language\n",
            "a.machine=(npadvmod)=>learning\n",
            "<BasicElement: machine-[npadvmod]->learn>\n",
            "a.algorithms=(dobj)=>learning\n",
            "<BasicElement: algorithms-[dobj]->learn>\n",
            "b.steady=(amod)=>increase\n",
            "b.computational=(amod)=>power\n",
            "a.law=(dobj)=>see\n",
            "<BasicElement: law-[dobj]->see>\n",
            "b.gradual=(amod)=>lessening\n",
            "b.transformational=(amod)=>grammar\n",
            "b.theoretical=(amod)=>underpinnings\n",
            "a.underpinnings=(nsubj)=>discouraged\n",
            "<BasicElement: underpinnings-[nsubj]->discourage>\n",
            "a.sort=(dobj)=>discouraged\n",
            "<BasicElement: sort-[dobj]->discourage>\n",
            "b.underlies=(relcl)=>sort\n",
            "a.machine=(compound)=>learning\n",
            "<BasicElement: machine-[compound]->learn>\n",
            "b.learning=(amod)=>approach\n",
            "a.approach=(dobj)=>underlies\n",
            "<BasicElement: approach-[dobj]->underlie>\n",
            "a.learning=(nsubj)=>became\n",
            "<BasicElement: learning-[nsubj]->become>\n",
            "b.deep=(amod)=>methods\n",
            "b.neural=(amod)=>methods\n",
            "b.natural=(amod)=>language\n",
            "b.showing=(acl)=>results\n",
            "b.such=(amod)=>techniques\n",
            "a.techniques=(nsubj)=>achieve\n",
            "<BasicElement: techniques-[nsubj]->achieve>\n",
            "a.results=(dobj)=>achieve\n",
            "<BasicElement: results-[dobj]->achieve>\n",
            "b.many=(amod)=>tasks\n",
            "b.natural=(amod)=>language\n",
            "a.notes=(dobj)=>analyze\n",
            "<BasicElement: notes-[dobj]->analyze>\n",
            "b.electronic=(amod)=>records\n",
            "a.care=(dobj)=>improve\n",
            "<BasicElement: care-[dobj]->improve>\n",
            "b.early=(amod)=>days\n",
            "b.many=(amod)=>systems\n",
            "a.systems=(nsubjpass)=>designed\n",
            "<BasicElement: systems-[nsubjpass]->design>\n",
            "b.symbolic=(amod)=>methods\n",
            "b.coupled=(acl)=>rules\n",
            "b.dictionary=(amod)=>lookup\n",
            "a.grammars=(dobj)=>writing\n",
            "<BasicElement: grammars-[dobj]->write>\n",
            "b.heuristic=(amod)=>rules\n",
            "a.rules=(dobj)=>devising\n",
            "<BasicElement: rules-[dobj]->devise>\n",
            "b.recent=(amod)=>systems\n",
            "a.systems=(dobj)=>stemming\n",
            "<BasicElement: systems-[dobj]->stem>\n",
            "b.based=(acl)=>systems\n",
            "a.machine=(npadvmod)=>learning\n",
            "<BasicElement: machine-[npadvmod]->learn>\n",
            "b.learning=(amod)=>algorithms\n",
            "b.many=(amod)=>advantages\n",
            "a.hand=(npadvmod)=>produced\n",
            "<BasicElement: hand-[npadvmod]->produce>\n",
            "b.produced=(amod)=>rules\n",
            "a.machine=(compound)=>learning\n",
            "<BasicElement: machine-[compound]->learn>\n",
            "b.symbolic=(amod)=>methods\n",
            "b.called=(amod)=>revolution\n",
            "b.statistical=(amod)=>revolution\n",
            "b.late=(amod)=>1980s\n",
            "b.much=(amod)=>research\n",
            "b.natural=(amod)=>language\n",
            "a.research=(nsubj)=>relied\n",
            "<BasicElement: research-[nsubj]->rely>\n",
            "a.machine=(compound)=>learning\n",
            "<BasicElement: machine-[compound]->learn>\n",
            "a.machine=(npadvmod)=>learning\n",
            "<BasicElement: machine-[npadvmod]->learn>\n",
            "b.learning=(amod)=>paradigm\n",
            "a.paradigm=(nsubj)=>calls\n",
            "<BasicElement: paradigm-[nsubj]->call>\n",
            "b.statistical=(amod)=>inference\n",
            "a.inference=(dobj)=>using\n",
            "<BasicElement: inference-[dobj]->use>\n",
            "b.such=(amod)=>rules\n",
            "a.rules=(dobj)=>learn\n",
            "<BasicElement: rules-[dobj]->learn>\n",
            "b.large=(amod)=>corpora\n",
            "b.plural=(amod)=>form\n",
            "b.human=(amod)=>annotations\n",
            "a.computer=(conj)=>human\n",
            "<BasicElement: computer-[conj]->human>\n",
            "b.typical=(amod)=>examples\n",
            "b.real=(amod)=>world\n",
            "b.Many=(amod)=>classes\n",
            "b.different=(amod)=>classes\n",
            "a.classes=(nsubjpass)=>applied\n",
            "<BasicElement: classes-[nsubjpass]->apply>\n",
            "b.natural=(amod)=>language\n",
            "a.algorithms=(nsubj)=>take\n",
            "<BasicElement: algorithms-[nsubj]->take>\n",
            "b.large=(amod)=>set\n",
            "a.research=(nsubj)=>focused\n",
            "<BasicElement: research-[nsubj]->focus>\n",
            "b.statistical=(amod)=>models\n",
            "b.make=(relcl)=>models\n",
            "b.soft=(amod)=>decisions\n",
            "b.probabilistic=(amod)=>decisions\n",
            "a.decisions=(dobj)=>make\n",
            "<BasicElement: decisions-[dobj]->make>\n",
            "b.based=(acl)=>models\n",
            "b.valued=(amod)=>weights\n",
            "a.weights=(dobj)=>attaching\n",
            "<BasicElement: weights-[dobj]->attach>\n",
            "b.valued=(amod)=>embeddings\n",
            "b.neural=(amod)=>networks\n",
            "b.Such=(amod)=>models\n",
            "b.express=(acl)=>advantage\n",
            "b.relative=(amod)=>certainty\n",
            "a.certainty=(dobj)=>express\n",
            "<BasicElement: certainty-[dobj]->express>\n",
            "b.many=(amod)=>answers\n",
            "b.different=(amod)=>answers\n",
            "b.possible=(amod)=>answers\n",
            "b.reliable=(amod)=>results\n",
            "a.results=(dobj)=>producing\n",
            "<BasicElement: results-[dobj]->produce>\n",
            "a.model=(nsubjpass)=>included\n",
            "<BasicElement: model-[nsubjpass]->include>\n",
            "b.larger=(amod)=>system\n",
            "b.used=(amod)=>algorithms\n",
            "b.produced=(amod)=>systems\n",
            "b.similar=(amod)=>rules\n",
            "b.existing=(amod)=>rules\n",
            "a.hand=(npadvmod)=>written\n",
            "<BasicElement: hand-[npadvmod]->write>\n",
            "b.written=(amod)=>rules\n",
            "a.tagging=(nsubj)=>introduced\n",
            "<BasicElement: tagging-[nsubj]->introduce>\n",
            "a.use=(dobj)=>introduced\n",
            "<BasicElement: use-[dobj]->introduce>\n",
            "b.hidden=(amod)=>models\n",
            "b.natural=(amod)=>language\n",
            "a.research=(nsubj)=>focused\n",
            "<BasicElement: research-[nsubj]->focus>\n",
            "b.statistical=(amod)=>models\n",
            "b.make=(relcl)=>models\n",
            "b.soft=(amod)=>decisions\n",
            "b.probabilistic=(amod)=>decisions\n",
            "a.decisions=(dobj)=>make\n",
            "<BasicElement: decisions-[dobj]->make>\n",
            "b.based=(acl)=>models\n",
            "b.valued=(amod)=>weights\n",
            "a.weights=(dobj)=>attaching\n",
            "<BasicElement: weights-[dobj]->attach>\n",
            "b.making=(acl)=>features\n",
            "a.data=(dobj)=>making\n",
            "<BasicElement: data-[dobj]->make>\n",
            "b.cache=(compound)=>language\n",
            "b.many=(amod)=>systems\n",
            "a.systems=(nsubj)=>rely\n",
            "<BasicElement: systems-[nsubj]->rely>\n",
            "b.rely=(relcl)=>models\n",
            "b.such=(amod)=>models\n",
            "b.statistical=(amod)=>models\n",
            "b.Such=(amod)=>models\n",
            "b.unfamiliar=(amod)=>input\n",
            "a.input=(dobj)=>given\n",
            "<BasicElement: input-[dobj]->give>\n",
            "a.input=(dobj)=>given\n",
            "<BasicElement: input-[dobj]->give>\n",
            "b.contains=(relcl)=>input\n",
            "a.errors=(dobj)=>contains\n",
            "<BasicElement: errors-[dobj]->contain>\n",
            "b.real=(amod)=>world\n",
            "b.reliable=(amod)=>results\n",
            "a.results=(dobj)=>produce\n",
            "<BasicElement: results-[dobj]->produce>\n",
            "b.larger=(amod)=>system\n",
            "b.comprising=(acl)=>system\n",
            "b.multiple=(amod)=>subtasks\n",
            "a.subtasks=(dobj)=>comprising\n",
            "<BasicElement: subtasks-[dobj]->comprise>\n",
            "b.neural=(amod)=>turn\n",
            "a.turn=(advcl)=>comprising\n",
            "<BasicElement: turn-[advcl]->comprise>\n",
            "b.statistical=(amod)=>methods\n",
            "a.methods=(nsubjpass)=>replaced\n",
            "<BasicElement: methods-[nsubjpass]->replace>\n",
            "b.neural=(amod)=>networks\n",
            "b.statistical=(amod)=>interpretability\n",
            "a.interpretability=(nsubjpass)=>required\n",
            "<BasicElement: interpretability-[nsubjpass]->require>\n",
            "b.required=(relcl)=>contexts\n",
            "b.major=(amod)=>drawback\n",
            "b.statistical=(amod)=>methods\n",
            "b.elaborate=(amod)=>engineering\n",
            "a.engineering=(dobj)=>require\n",
            "<BasicElement: engineering-[dobj]->require>\n",
            "a.field=(nsubj)=>abandoned\n",
            "<BasicElement: field-[nsubj]->abandon>\n",
            "b.statistical=(amod)=>methods\n",
            "a.methods=(dobj)=>abandoned\n",
            "<BasicElement: methods-[dobj]->abandon>\n",
            "b.neural=(amod)=>networks\n",
            "a.machine=(compound)=>learning\n",
            "<BasicElement: machine-[compound]->learn>\n",
            "b.Popular=(amod)=>techniques\n",
            "a.techniques=(nsubj)=>include\n",
            "<BasicElement: techniques-[nsubj]->include>\n",
            "a.use=(dobj)=>include\n",
            "<BasicElement: use-[dobj]->include>\n",
            "b.capture=(acl)=>use\n",
            "b.semantic=(amod)=>properties\n",
            "a.properties=(dobj)=>capture\n",
            "<BasicElement: properties-[dobj]->capture>\n",
            "b.higher=(amod)=>level\n",
            "b.answering=(acl)=>question\n",
            "b.separate=(amod)=>tasks\n",
            "b.intermediate=(amod)=>tasks\n",
            "a.g=(dobj)=>relying\n",
            "<BasicElement: g-[dobj]->rely>\n",
            "a.shift=(nsubj)=>entailed\n",
            "<BasicElement: shift-[nsubj]->entail>\n",
            "b.substantial=(amod)=>changes\n",
            "a.changes=(dobj)=>entailed\n",
            "<BasicElement: changes-[dobj]->entail>\n",
            "a.systems=(nsubjpass)=>designed\n",
            "<BasicElement: systems-[nsubjpass]->design>\n",
            "b.deep=(amod)=>approaches\n",
            "b.neural=(amod)=>approaches\n",
            "a.network=(npadvmod)=>based\n",
            "<BasicElement: network-[npadvmod]->base>\n",
            "b.based=(amod)=>approaches\n",
            "a.approaches=(nsubjpass)=>viewed\n",
            "<BasicElement: approaches-[nsubjpass]->view>\n",
            "a.paradigm=(compound)=>distinct\n",
            "<BasicElement: paradigm-[compound]->distinct>\n",
            "b.statistical=(amod)=>processing\n",
            "b.natural=(amod)=>language\n",
            "b.neural=(amod)=>translation\n",
            "a.fact=(dobj)=>emphasizes\n",
            "<BasicElement: fact-[dobj]->emphasize>\n",
            "a.learning=(npadvmod)=>based\n",
            "<BasicElement: learning-[npadvmod]->base>\n",
            "b.based=(amod)=>approaches\n",
            "a.approaches=(nsubj)=>learn\n",
            "<BasicElement: approaches-[nsubj]->learn>\n",
            "b.learn=(acl)=>fact\n",
            "a.transformations=(dobj)=>learn\n",
            "<BasicElement: transformations-[dobj]->learn>\n",
            "b.obviating=(acl)=>transformations\n",
            "a.need=(dobj)=>obviating\n",
            "<BasicElement: need-[dobj]->obviate>\n",
            "b.intermediate=(amod)=>steps\n",
            "b.used=(relcl)=>modeling\n",
            "b.statistical=(amod)=>translation\n",
            "b.Latest=(amod)=>works\n",
            "a.works=(nsubj)=>tend\n",
            "<BasicElement: works-[nsubj]->tend>\n",
            "b.technical=(amod)=>structure\n",
            "a.structure=(dobj)=>use\n",
            "<BasicElement: structure-[dobj]->use>\n",
            "b.given=(amod)=>task\n",
            "b.proper=(amod)=>network\n",
            "b.neural=(amod)=>network\n",
            "a.network=(dobj)=>build\n",
            "<BasicElement: network-[dobj]->build>\n",
            "b.researched=(amod)=>tasks\n",
            "b.natural=(amod)=>language\n",
            "b.direct=(amod)=>applications\n",
            "b.real=(amod)=>world\n",
            "a.others=(nsubj)=>serve\n",
            "<BasicElement: others-[nsubj]->serve>\n",
            "b.used=(relcl)=>subtasks\n",
            "b.larger=(amod)=>tasks\n",
            "a.tasks=(dobj)=>solving\n",
            "<BasicElement: tasks-[dobj]->solve>\n",
            "b.natural=(amod)=>language\n",
            "a.tasks=(nsubjpass)=>intertwined\n",
            "<BasicElement: tasks-[nsubjpass]->intertwine>\n",
            "b.coarse=(amod)=>division\n",
            "a.division=(nsubjpass)=>given\n",
            "<BasicElement: division-[nsubjpass]->give>\n",
            "b.standing=(amod)=>trends\n",
            "b.future=(amod)=>directions\n",
            "a.directions=(dobj)=>extrapolate\n",
            "<BasicElement: directions-[dobj]->extrapolate>\n",
            "a.trends=(nsubjpass)=>observed\n",
            "<BasicElement: trends-[nsubjpass]->observe>\n",
            "b.standing=(amod)=>series\n",
            "b.Shared=(compound)=>Tasks\n",
            "b.Most=(amod)=>applications\n",
            "b.higher=(amod)=>level\n",
            "a.applications=(nsubj)=>involve\n",
            "<BasicElement: applications-[nsubj]->involve>\n",
            "a.aspects=(dobj)=>involve\n",
            "<BasicElement: aspects-[dobj]->involve>\n",
            "b.emulate=(relcl)=>aspects\n",
            "b.intelligent=(amod)=>behaviour\n",
            "b.apparent=(conj)=>behaviour\n",
            "a.comprehension=(dobj)=>emulate\n",
            "<BasicElement: comprehension-[dobj]->emulate>\n",
            "b.natural=(amod)=>language\n",
            "b.speaking=(acl)=>comprehension\n",
            "b.technical=(amod)=>operationalization\n",
            "a.operationalization=(dobj)=>speaking\n",
            "<BasicElement: operationalization-[dobj]->speak>\n",
            "b.advanced=(amod)=>aspects\n",
            "b.cognitive=(amod)=>behaviour\n",
            "b.developmental=(amod)=>trajectories\n",
            "a.trends=(nsubj)=>refers\n",
            "<BasicElement: trends-[nsubj]->refer>\n",
            "b.shared=(amod)=>tasks\n",
            "a.Cognition=(nsubj)=>refers\n",
            "<BasicElement: Cognition-[nsubj]->refer>\n",
            "b.mental=(amod)=>action\n",
            "a.knowledge=(dobj)=>acquiring\n",
            "<BasicElement: knowledge-[dobj]->acquire>\n",
            "a.experience=(dobj)=>refers\n",
            "<BasicElement: experience-[dobj]->refer>\n",
            "b.Cognitive=(compound)=>science\n",
            "b.interdisciplinary=(amod)=>study\n",
            "b.scientific=(amod)=>study\n",
            "b.Cognitive=(compound)=>linguistics\n",
            "b.interdisciplinary=(amod)=>branch\n",
            "b.combining=(acl)=>branch\n",
            "a.knowledge=(dobj)=>combining\n",
            "<BasicElement: knowledge-[dobj]->combine>\n",
            "a.area=(nsubj)=>maintained\n",
            "<BasicElement: area-[nsubj]->maintain>\n",
            "b.computational=(amod)=>linguistics\n",
            "b.strong=(amod)=>ties\n",
            "a.ties=(dobj)=>maintained\n",
            "<BasicElement: ties-[dobj]->maintain>\n",
            "b.cognitive=(amod)=>studies\n",
            "a.methodology=(dobj)=>offers\n",
            "<BasicElement: methodology-[dobj]->offer>\n",
            "b.natural=(amod)=>language\n",
            "a.processing=(dobj)=>build\n",
            "<BasicElement: processing-[dobj]->build>\n",
            "b.cognitive=(amod)=>science\n",
            "b.cognitive=(amod)=>linguistics\n",
            "b.defining=(amod)=>aspects\n",
            "b.cognitive=(amod)=>linguistics\n",
            "b.historical=(amod)=>heritage\n",
            "b.statistical=(amod)=>turn\n",
            "a.approaches=(nsubjpass)=>pursued\n",
            "<BasicElement: approaches-[nsubjpass]->pursue>\n",
            "b.develop=(xcomp)=>approaches\n",
            "b.cognitive=(amod)=>models\n",
            "a.models=(dobj)=>develop\n",
            "<BasicElement: models-[dobj]->develop>\n",
            "b.operationalizable=(amod)=>frameworks\n",
            "b.various=(amod)=>frameworks\n",
            "b.cognitive=(amod)=>grammar\n",
            "b.functional=(amod)=>grammar\n",
            "b.computational=(amod)=>psycholinguistics\n",
            "b.cognitive=(amod)=>neuroscience\n",
            "b.limited=(amod)=>uptake\n",
            "b.major=(amod)=>conferences\n",
            "a.ideas=(nsubjpass)=>revived\n",
            "<BasicElement: ideas-[nsubjpass]->revive>\n",
            "b.achieve=(acl)=>approach\n",
            "a.explainability=(dobj)=>achieve\n",
            "<BasicElement: explainability-[dobj]->achieve>\n",
            "b.neural=(amod)=>models\n",
            "ROUGE-1: 0.45743589743589746\n",
            "ROUGE-2: 0.43987667009249737\n",
            "ROUGE-L: 0.2482051282051282\n",
            "ROUGE-BE: 0.4268585131894484\n"
          ]
        }
      ]
    },
    {
      "cell_type": "code",
      "source": [
        ""
      ],
      "metadata": {
        "id": "XNN3zdtbElur"
      },
      "execution_count": null,
      "outputs": []
    }
  ]
}